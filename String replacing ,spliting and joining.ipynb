{
 "cells": [
  {
   "cell_type": "markdown",
   "id": "c47586d4",
   "metadata": {},
   "source": [
    "# slicing operation\n",
    "#syntax : var[start:stop:step]"
   ]
  },
  {
   "cell_type": "code",
   "execution_count": 5,
   "id": "691352dc",
   "metadata": {},
   "outputs": [
    {
     "name": "stdout",
     "output_type": "stream",
     "text": [
      "sirmcada\n"
     ]
    }
   ],
   "source": [
    "clg_name=\"sri ramachandra\"#space is also included in index calculations\n",
    "print(clg_name[::2])#it leaves the second char value and print"
   ]
  },
  {
   "cell_type": "code",
   "execution_count": 9,
   "id": "9f135af8",
   "metadata": {},
   "outputs": [
    {
     "name": "stdout",
     "output_type": "stream",
     "text": [
      "ramachandra\n"
     ]
    }
   ],
   "source": [
    "print(clg_name[4::])#it prints the n+1 (because it has index value 0)\n"
   ]
  },
  {
   "cell_type": "code",
   "execution_count": 11,
   "id": "4edce21c",
   "metadata": {},
   "outputs": [
    {
     "name": "stdout",
     "output_type": "stream",
     "text": [
      " ramachandra\n"
     ]
    }
   ],
   "source": [
    "print(clg_name[-12::])#reverse indexing(count from backside)"
   ]
  },
  {
   "cell_type": "code",
   "execution_count": 17,
   "id": "5834bacc",
   "metadata": {},
   "outputs": [
    {
     "name": "stdout",
     "output_type": "stream",
     "text": [
      "ahcamar\n"
     ]
    }
   ],
   "source": [
    "print(clg_name[-5:-12:-1])"
   ]
  },
  {
   "cell_type": "code",
   "execution_count": 18,
   "id": "04449b6f",
   "metadata": {},
   "outputs": [
    {
     "name": "stdout",
     "output_type": "stream",
     "text": [
      "ardnahcamar irs\n"
     ]
    }
   ],
   "source": [
    "print(clg_name[::-1])#whole reverse"
   ]
  },
  {
   "cell_type": "markdown",
   "id": "65be0f11",
   "metadata": {},
   "source": [
    "# string replacing "
   ]
  },
  {
   "cell_type": "code",
   "execution_count": 29,
   "id": "417e744f",
   "metadata": {},
   "outputs": [
    {
     "ename": "SyntaxError",
     "evalue": "cannot assign to literal (Temp/ipykernel_1144/584055672.py, line 2)",
     "output_type": "error",
     "traceback": [
      "\u001b[1;36m  File \u001b[1;32m\"C:\\Users\\DELL\\AppData\\Local\\Temp/ipykernel_1144/584055672.py\"\u001b[1;36m, line \u001b[1;32m2\u001b[0m\n\u001b[1;33m    x=[2]=\"j\"#we cant change the string value because(sting is imutable :cant change)\u001b[0m\n\u001b[1;37m       ^\u001b[0m\n\u001b[1;31mSyntaxError\u001b[0m\u001b[1;31m:\u001b[0m cannot assign to literal\n"
     ]
    }
   ],
   "source": [
    "x=\"hellow world\"\n",
    "x=[2]=\"j\"#we cant change the string value because(sting is imutable :cant change)"
   ]
  },
  {
   "cell_type": "code",
   "execution_count": 32,
   "id": "223667f5",
   "metadata": {},
   "outputs": [
    {
     "name": "stdout",
     "output_type": "stream",
     "text": [
      "jellow world\n"
     ]
    }
   ],
   "source": [
    "x=\"hellow world\"\n",
    "nx=\"j\"+x[1:]#replacing with new variable \"nx\"\n",
    "print(nx)"
   ]
  },
  {
   "cell_type": "markdown",
   "id": "86dd0b0e",
   "metadata": {},
   "source": [
    "# syntax for replacing\n",
    "string.replace(old_substring,new_substring(count))"
   ]
  },
  {
   "cell_type": "code",
   "execution_count": 34,
   "id": "d412bae4",
   "metadata": {},
   "outputs": [
    {
     "data": {
      "text/plain": [
       "'hai world'"
      ]
     },
     "execution_count": 34,
     "metadata": {},
     "output_type": "execute_result"
    }
   ],
   "source": [
    "x=\"hellow world\"\n",
    "    #old string   new string\n",
    "x.replace(\"hellow\",\"hai\")"
   ]
  },
  {
   "cell_type": "code",
   "execution_count": 49,
   "id": "6c4e5f49",
   "metadata": {},
   "outputs": [
    {
     "name": "stdout",
     "output_type": "stream",
     "text": [
      "in garden i found yellow bug on yellow flower\n"
     ]
    }
   ],
   "source": [
    "para=\"in garden i found yellow bug on yellow plant\"\n",
    "                             #times\n",
    "para1=para.replace(\"plant\",\"flower\",1)\n",
    "print(para1)"
   ]
  },
  {
   "cell_type": "markdown",
   "id": "98609fb1",
   "metadata": {},
   "source": [
    "# spliting operation"
   ]
  },
  {
   "cell_type": "code",
   "execution_count": 37,
   "id": "229ee309",
   "metadata": {},
   "outputs": [
    {
     "name": "stdout",
     "output_type": "stream",
     "text": [
      "['r', 'd/gr', '', 'n/blu', '/y', 'llow']\n"
     ]
    }
   ],
   "source": [
    "a=\"red/green/blue/yellow\"\n",
    "a1=a.split('e')#condition or pattern\n",
    "print(a1)"
   ]
  },
  {
   "cell_type": "code",
   "execution_count": 39,
   "id": "1c0b0427",
   "metadata": {},
   "outputs": [
    {
     "name": "stdout",
     "output_type": "stream",
     "text": [
      "['red', 'green', 'blue', 'yellow']\n"
     ]
    }
   ],
   "source": [
    "a=\"red/green/blue/yellow\"\n",
    "a1=a.split('/')#condition or pattern\n",
    "print(a1)"
   ]
  },
  {
   "cell_type": "markdown",
   "id": "0c5c4c3d",
   "metadata": {},
   "source": [
    "# joining or conacatinating"
   ]
  },
  {
   "cell_type": "code",
   "execution_count": 42,
   "id": "39f2c140",
   "metadata": {},
   "outputs": [
    {
     "name": "stdout",
     "output_type": "stream",
     "text": [
      "red&green&blue\n"
     ]
    }
   ],
   "source": [
    "b=[\"red\",\"green\",\"blue\"]\n",
    "#synatx=newvar='condition'.join(joing var)\n",
    "b1='&'.join(b)\n",
    "print(b1)"
   ]
  }
 ],
 "metadata": {
  "kernelspec": {
   "display_name": "Python 3 (ipykernel)",
   "language": "python",
   "name": "python3"
  },
  "language_info": {
   "codemirror_mode": {
    "name": "ipython",
    "version": 3
   },
   "file_extension": ".py",
   "mimetype": "text/x-python",
   "name": "python",
   "nbconvert_exporter": "python",
   "pygments_lexer": "ipython3",
   "version": "3.9.7"
  }
 },
 "nbformat": 4,
 "nbformat_minor": 5
}
