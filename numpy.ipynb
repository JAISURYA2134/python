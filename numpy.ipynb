{
 "cells": [
  {
   "cell_type": "markdown",
   "id": "650fc202",
   "metadata": {},
   "source": [
    "# Numpy (Numerical python)"
   ]
  },
  {
   "cell_type": "raw",
   "id": "f7d97ccd",
   "metadata": {},
   "source": [
    "-*pip install numpy #for checking whether it is available or not\n",
    "pip install numpy --upgrade #for installing the new version"
   ]
  },
  {
   "cell_type": "code",
   "execution_count": 2,
   "id": "9ac38b1b",
   "metadata": {},
   "outputs": [
    {
     "name": "stdout",
     "output_type": "stream",
     "text": [
      "1.23.5\n"
     ]
    }
   ],
   "source": [
    "import numpy as np\n",
    "print(np.__version__)#it prints the version if the numpy exists in the pc"
   ]
  },
  {
   "cell_type": "code",
   "execution_count": 2,
   "id": "be720f6f",
   "metadata": {},
   "outputs": [
    {
     "name": "stdout",
     "output_type": "stream",
     "text": [
      "[1 2 3 4]\n",
      "[1 2 3 4]\n"
     ]
    }
   ],
   "source": [
    "#single dimesional arry\n",
    "import numpy as np\n",
    "ar= np.array((1,2,3,4))#sntax for creating array var=np.array()\n",
    "ar2= np.array([1,2,3,4])\n",
    "print(ar)\n",
    "print(ar2)"
   ]
  },
  {
   "cell_type": "markdown",
   "id": "9b9ff972",
   "metadata": {},
   "source": [
    "# coverting list into array"
   ]
  },
  {
   "cell_type": "code",
   "execution_count": 3,
   "id": "4788dda8",
   "metadata": {},
   "outputs": [
    {
     "data": {
      "text/plain": [
       "numpy.ndarray"
      ]
     },
     "execution_count": 3,
     "metadata": {},
     "output_type": "execute_result"
    }
   ],
   "source": [
    "list=[1,2,3]\n",
    "array=np.array([1,2,3])\n",
    "type(array)"
   ]
  },
  {
   "cell_type": "code",
   "execution_count": 5,
   "id": "91f2981d",
   "metadata": {},
   "outputs": [
    {
     "data": {
      "text/plain": [
       "numpy.ndarray"
      ]
     },
     "execution_count": 5,
     "metadata": {},
     "output_type": "execute_result"
    }
   ],
   "source": [
    "array_list=np.array(list)\n",
    "type(array_list)"
   ]
  },
  {
   "cell_type": "markdown",
   "id": "9c80c2d9",
   "metadata": {},
   "source": [
    "# array dimensions"
   ]
  },
  {
   "cell_type": "code",
   "execution_count": 5,
   "id": "f28f70e9",
   "metadata": {},
   "outputs": [
    {
     "name": "stdout",
     "output_type": "stream",
     "text": [
      "[[1 2 3]]\n"
     ]
    }
   ],
   "source": [
    "# two dimension array\n",
    "two_dim=np.array([[1,2,3],[4,5,6]])\n",
    "print(two_dim)"
   ]
  },
  {
   "cell_type": "code",
   "execution_count": 8,
   "id": "33852580",
   "metadata": {},
   "outputs": [
    {
     "name": "stdout",
     "output_type": "stream",
     "text": [
      "3\n"
     ]
    }
   ],
   "source": [
    "#three dimensional array\n",
    "three_dim=np.array([[[1,2,3]]])\n",
    "print(three_dim.ndim)"
   ]
  },
  {
   "cell_type": "code",
   "execution_count": 14,
   "id": "c3786522",
   "metadata": {},
   "outputs": [
    {
     "name": "stdout",
     "output_type": "stream",
     "text": [
      "2\n",
      "3\n"
     ]
    }
   ],
   "source": [
    "#ndim() print the dimension of the array\n",
    "print(two_dim.ndim)\n",
    "print(three_dim.ndim)"
   ]
  },
  {
   "cell_type": "markdown",
   "id": "ef89c8d1",
   "metadata": {},
   "source": [
    "# creation using functions"
   ]
  },
  {
   "cell_type": "code",
   "execution_count": 5,
   "id": "a87a88ed",
   "metadata": {},
   "outputs": [
    {
     "data": {
      "text/plain": [
       "array([0, 1, 2, 3, 4, 5, 6, 7, 8, 9])"
      ]
     },
     "execution_count": 5,
     "metadata": {},
     "output_type": "execute_result"
    }
   ],
   "source": [
    "#      start stop\n",
    "np.arange(0,10)"
   ]
  },
  {
   "cell_type": "code",
   "execution_count": 10,
   "id": "8984200a",
   "metadata": {},
   "outputs": [
    {
     "ename": "TypeError",
     "evalue": "arange: scalar arguments expected instead of a tuple.",
     "output_type": "error",
     "traceback": [
      "\u001b[1;31m---------------------------------------------------------------------------\u001b[0m",
      "\u001b[1;31mTypeError\u001b[0m                                 Traceback (most recent call last)",
      "\u001b[1;32m~\\AppData\\Local\\Temp/ipykernel_9656/2181629598.py\u001b[0m in \u001b[0;36m<module>\u001b[1;34m\u001b[0m\n\u001b[0;32m      1\u001b[0m \u001b[1;31m#      startstopstep\u001b[0m\u001b[1;33m\u001b[0m\u001b[1;33m\u001b[0m\u001b[0m\n\u001b[1;32m----> 2\u001b[1;33m \u001b[0mnp\u001b[0m\u001b[1;33m.\u001b[0m\u001b[0marange\u001b[0m\u001b[1;33m(\u001b[0m\u001b[1;33m(\u001b[0m\u001b[1;36m3\u001b[0m\u001b[1;33m,\u001b[0m\u001b[1;36m10\u001b[0m\u001b[1;33m)\u001b[0m\u001b[1;33m)\u001b[0m\u001b[1;33m\u001b[0m\u001b[1;33m\u001b[0m\u001b[0m\n\u001b[0m",
      "\u001b[1;31mTypeError\u001b[0m: arange: scalar arguments expected instead of a tuple."
     ]
    }
   ],
   "source": [
    "#      startstopstep\n",
    "np.arange(0,10,2)"
   ]
  },
  {
   "cell_type": "code",
   "execution_count": 4,
   "id": "fd177260",
   "metadata": {},
   "outputs": [
    {
     "data": {
      "text/plain": [
       "array([0., 0., 0.])"
      ]
     },
     "execution_count": 4,
     "metadata": {},
     "output_type": "execute_result"
    }
   ],
   "source": [
    "np.zeros(3)"
   ]
  },
  {
   "cell_type": "code",
   "execution_count": 6,
   "id": "834b992c",
   "metadata": {},
   "outputs": [
    {
     "data": {
      "text/plain": [
       "array([[0., 0., 0.],\n",
       "       [0., 0., 0.],\n",
       "       [0., 0., 0.],\n",
       "       [0., 0., 0.],\n",
       "       [0., 0., 0.]])"
      ]
     },
     "execution_count": 6,
     "metadata": {},
     "output_type": "execute_result"
    }
   ],
   "source": [
    "#       rows cols \n",
    "np.zeros((5,3))"
   ]
  },
  {
   "cell_type": "code",
   "execution_count": 19,
   "id": "1f6cd677",
   "metadata": {},
   "outputs": [
    {
     "data": {
      "text/plain": [
       "array([[1., 1., 1.],\n",
       "       [1., 1., 1.],\n",
       "       [1., 1., 1.]])"
      ]
     },
     "execution_count": 19,
     "metadata": {},
     "output_type": "execute_result"
    }
   ],
   "source": [
    "#       rows cols \n",
    "np.ones((3,3))"
   ]
  },
  {
   "cell_type": "code",
   "execution_count": 14,
   "id": "8f900b3f",
   "metadata": {},
   "outputs": [
    {
     "data": {
      "text/plain": [
       "array([ 0., 10.])"
      ]
     },
     "execution_count": 14,
     "metadata": {},
     "output_type": "execute_result"
    }
   ],
   "source": [
    "#        startstopvalue \n",
    "np.linspace(0,10,2)#it prints the 3 values with equal difference between 0 to 10"
   ]
  },
  {
   "cell_type": "code",
   "execution_count": 23,
   "id": "e998544f",
   "metadata": {},
   "outputs": [
    {
     "data": {
      "text/plain": [
       "array([0.  , 0.25, 0.5 , 0.75, 1.  , 1.25, 1.5 , 1.75, 2.  , 2.25, 2.5 ,\n",
       "       2.75, 3.  , 3.25, 3.5 , 3.75, 4.  , 4.25, 4.5 , 4.75, 5.  ])"
      ]
     },
     "execution_count": 23,
     "metadata": {},
     "output_type": "execute_result"
    }
   ],
   "source": [
    "#        startstopvalue \n",
    "np.linspace(0,5,21)"
   ]
  },
  {
   "cell_type": "markdown",
   "id": "ddb785b0",
   "metadata": {},
   "source": [
    "# Matrix"
   ]
  },
  {
   "cell_type": "code",
   "execution_count": 15,
   "id": "1b27c3cb",
   "metadata": {},
   "outputs": [
    {
     "data": {
      "text/plain": [
       "array([[1., 0., 0., 0.],\n",
       "       [0., 1., 0., 0.],\n",
       "       [0., 0., 1., 0.],\n",
       "       [0., 0., 0., 1.]])"
      ]
     },
     "execution_count": 15,
     "metadata": {},
     "output_type": "execute_result"
    }
   ],
   "source": [
    "#for creating identical matrix\n",
    "np.eye(4)"
   ]
  },
  {
   "cell_type": "code",
   "execution_count": 9,
   "id": "80835cb4",
   "metadata": {},
   "outputs": [
    {
     "data": {
      "text/plain": [
       "array([[ 1.74929733, -1.71108341, -0.34982395,  0.5285462 ,  0.41361971],\n",
       "       [ 0.36412193,  1.21590244, -0.74027929, -0.7373328 ,  1.54875363],\n",
       "       [-1.55582003, -0.44842782, -1.72200775,  0.04686022,  1.19647476],\n",
       "       [ 1.99629785, -0.20343071, -1.70399078,  0.78176648, -1.89243928],\n",
       "       [ 1.56817353,  0.35967273,  1.09259148,  0.28413826, -0.07424879]])"
      ]
     },
     "execution_count": 9,
     "metadata": {},
     "output_type": "execute_result"
    }
   ],
   "source": [
    "            #rows cols\n",
    "np.random.randn(5,5)#it prints random values(0 to 1) between 5 to 5"
   ]
  },
  {
   "cell_type": "markdown",
   "id": "549e32bb",
   "metadata": {},
   "source": [
    "# array"
   ]
  },
  {
   "cell_type": "code",
   "execution_count": 31,
   "id": "f80df1fe",
   "metadata": {},
   "outputs": [
    {
     "data": {
      "text/plain": [
       "array([17, 51, 17, 74, 64, 86, 30,  7, 31, 43])"
      ]
     },
     "execution_count": 31,
     "metadata": {},
     "output_type": "execute_result"
    }
   ],
   "source": [
    "#               start stop values\n",
    "np.random.randint(1,100,10)#it prints random values "
   ]
  },
  {
   "cell_type": "code",
   "execution_count": 33,
   "id": "cec243f6",
   "metadata": {},
   "outputs": [
    {
     "data": {
      "text/plain": [
       "array([1.76405235, 0.40015721])"
      ]
     },
     "execution_count": 33,
     "metadata": {},
     "output_type": "execute_result"
    }
   ],
   "source": [
    "np.random.seed(0)#it will repeats the same value\n",
    "np.random .randn(2)"
   ]
  },
  {
   "cell_type": "code",
   "execution_count": 21,
   "id": "49bc3f06",
   "metadata": {},
   "outputs": [
    {
     "data": {
      "text/plain": [
       "array([2, 3])"
      ]
     },
     "execution_count": 21,
     "metadata": {},
     "output_type": "execute_result"
    }
   ],
   "source": [
    "np.random.seed(0)#it will repeats the same value\n",
    "np.random .randint(2,4,2)"
   ]
  },
  {
   "cell_type": "code",
   "execution_count": 24,
   "id": "327e4405",
   "metadata": {},
   "outputs": [
    {
     "data": {
      "text/plain": [
       "array([2, 3])"
      ]
     },
     "execution_count": 24,
     "metadata": {},
     "output_type": "execute_result"
    }
   ],
   "source": [
    "np.random.seed(0)#random seed stores the random value\n",
    "np.random .randint(2,4,2)"
   ]
  },
  {
   "cell_type": "code",
   "execution_count": 25,
   "id": "eba7f4b8",
   "metadata": {},
   "outputs": [
    {
     "data": {
      "text/plain": [
       "array([2, 2])"
      ]
     },
     "execution_count": 25,
     "metadata": {},
     "output_type": "execute_result"
    }
   ],
   "source": [
    "np.random.seed(4)#it will repeats the same value\n",
    "np.random .randint(2,4,2)"
   ]
  },
  {
   "cell_type": "code",
   "execution_count": 27,
   "id": "bc79310d",
   "metadata": {},
   "outputs": [
    {
     "name": "stdout",
     "output_type": "stream",
     "text": [
      "[ 0  1  2  3  4  5  6  7  8  9 10 11 12 13 14 15 16 17 18 19 20 21 22 23\n",
      " 24]\n",
      "[ 5  1 40 23  8  9 39 45 30 40]\n"
     ]
    }
   ],
   "source": [
    "arr=np.arange(25)\n",
    "print(arr)\n",
    "arr2=np.random.randint(0,50,10)\n",
    "print(arr2)"
   ]
  },
  {
   "cell_type": "code",
   "execution_count": 30,
   "id": "e3c4ec98",
   "metadata": {},
   "outputs": [
    {
     "data": {
      "text/plain": [
       "array([[ 0,  1,  2,  3,  4],\n",
       "       [ 5,  6,  7,  8,  9],\n",
       "       [10, 11, 12, 13, 14],\n",
       "       [15, 16, 17, 18, 19],\n",
       "       [20, 21, 22, 23, 24]])"
      ]
     },
     "execution_count": 30,
     "metadata": {},
     "output_type": "execute_result"
    }
   ],
   "source": [
    "#        rows cols\n",
    "arr2=arr.reshape(5,5)#it will reshapes the array into matrix 5x2=10 numbers\n",
    "arr2"
   ]
  },
  {
   "cell_type": "code",
   "execution_count": 51,
   "id": "e1f40d19",
   "metadata": {},
   "outputs": [
    {
     "data": {
      "text/plain": [
       "array([[ 3,  3, 39,  9, 19],\n",
       "       [21, 36, 23,  6, 24]])"
      ]
     },
     "execution_count": 51,
     "metadata": {},
     "output_type": "execute_result"
    }
   ],
   "source": [
    "#          row cols\n",
    "arr2.reshape(2,5)#it will reshapes from matrix into arraay"
   ]
  },
  {
   "cell_type": "markdown",
   "id": "ee82a9fc",
   "metadata": {},
   "source": [
    "# Some mathematical functions"
   ]
  },
  {
   "cell_type": "code",
   "execution_count": 56,
   "id": "2ee50a50",
   "metadata": {},
   "outputs": [
    {
     "data": {
      "text/plain": [
       "39"
      ]
     },
     "execution_count": 56,
     "metadata": {},
     "output_type": "execute_result"
    }
   ],
   "source": [
    "arr2.max()#it returns the max value from arr2 variable"
   ]
  },
  {
   "cell_type": "code",
   "execution_count": 57,
   "id": "7a657ef7",
   "metadata": {},
   "outputs": [
    {
     "data": {
      "text/plain": [
       "2"
      ]
     },
     "execution_count": 57,
     "metadata": {},
     "output_type": "execute_result"
    }
   ],
   "source": [
    "arr2.argmax()#it returns the idex value of the max value"
   ]
  },
  {
   "cell_type": "code",
   "execution_count": 58,
   "id": "9fc18354",
   "metadata": {},
   "outputs": [
    {
     "data": {
      "text/plain": [
       "3"
      ]
     },
     "execution_count": 58,
     "metadata": {},
     "output_type": "execute_result"
    }
   ],
   "source": [
    "arr2.min()#it returns the min value"
   ]
  },
  {
   "cell_type": "code",
   "execution_count": 59,
   "id": "08d55de3",
   "metadata": {},
   "outputs": [
    {
     "data": {
      "text/plain": [
       "0"
      ]
     },
     "execution_count": 59,
     "metadata": {},
     "output_type": "execute_result"
    }
   ],
   "source": [
    "arr2.argmin()#it returns the idex value of the min value"
   ]
  },
  {
   "cell_type": "code",
   "execution_count": 15,
   "id": "b5d8d6af",
   "metadata": {},
   "outputs": [
    {
     "data": {
      "text/plain": [
       "(5, 2)"
      ]
     },
     "execution_count": 15,
     "metadata": {},
     "output_type": "execute_result"
    }
   ],
   "source": [
    "arr2=np.random.randint(0,50,10)\n",
    "#        rows cols\n",
    "arr2=arr2.reshape(5,2)\n",
    "arr2.shape"
   ]
  },
  {
   "cell_type": "code",
   "execution_count": 16,
   "id": "e9e4cf23",
   "metadata": {},
   "outputs": [
    {
     "data": {
      "text/plain": [
       "dtype('int32')"
      ]
     },
     "execution_count": 16,
     "metadata": {},
     "output_type": "execute_result"
    }
   ],
   "source": [
    "arr2.dtype #dimesion type with value"
   ]
  },
  {
   "cell_type": "code",
   "execution_count": 32,
   "id": "27239449",
   "metadata": {},
   "outputs": [
    {
     "data": {
      "text/plain": [
       "numpy.ndarray"
      ]
     },
     "execution_count": 32,
     "metadata": {},
     "output_type": "execute_result"
    }
   ],
   "source": [
    "type(arr2)"
   ]
  },
  {
   "cell_type": "raw",
   "id": "e646b7f5",
   "metadata": {},
   "source": [
    "Note :\n",
    "    indexing and silicing will be common in array like list"
   ]
  },
  {
   "cell_type": "markdown",
   "id": "4364980e",
   "metadata": {},
   "source": [
    "# Accesing"
   ]
  },
  {
   "cell_type": "code",
   "execution_count": 63,
   "id": "cbabc9fc",
   "metadata": {},
   "outputs": [
    {
     "data": {
      "text/plain": [
       "19"
      ]
     },
     "execution_count": 63,
     "metadata": {},
     "output_type": "execute_result"
    }
   ],
   "source": [
    "arr2[4]"
   ]
  },
  {
   "cell_type": "code",
   "execution_count": 18,
   "id": "265afaa5",
   "metadata": {},
   "outputs": [
    {
     "data": {
      "text/plain": [
       "array([1.3])"
      ]
     },
     "execution_count": 18,
     "metadata": {},
     "output_type": "execute_result"
    }
   ],
   "source": [
    "a=np.array([1.2,1.3,1.4])\n",
    "a[1:2]#n-1"
   ]
  },
  {
   "cell_type": "markdown",
   "id": "b9d3e642",
   "metadata": {},
   "source": [
    "# slicing"
   ]
  },
  {
   "cell_type": "code",
   "execution_count": 39,
   "id": "5bcf7b4f",
   "metadata": {},
   "outputs": [
    {
     "data": {
      "text/plain": [
       "array([ 1,  2, 20, 20, 20, 20,  7,  8,  9])"
      ]
     },
     "execution_count": 39,
     "metadata": {},
     "output_type": "execute_result"
    }
   ],
   "source": [
    "#it overwrites the the values from 2:6(n-1)=2:5\n",
    "arr=np.arange(1,10)\n",
    "arr[2:6]=20\n",
    "arr"
   ]
  },
  {
   "cell_type": "code",
   "execution_count": 17,
   "id": "a1d5d9c3",
   "metadata": {},
   "outputs": [
    {
     "data": {
      "text/plain": [
       "array([0, 1, 2, 3, 4, 5, 6, 7, 8, 9])"
      ]
     },
     "execution_count": 17,
     "metadata": {},
     "output_type": "execute_result"
    }
   ],
   "source": [
    "ar=np.arange(0,10)\n",
    "ar"
   ]
  },
  {
   "cell_type": "code",
   "execution_count": 18,
   "id": "f2b01541",
   "metadata": {},
   "outputs": [
    {
     "data": {
      "text/plain": [
       "array([0, 1, 2, 3, 4, 5])"
      ]
     },
     "execution_count": 18,
     "metadata": {},
     "output_type": "execute_result"
    }
   ],
   "source": [
    "ar2=ar[0:6]\n",
    "ar2"
   ]
  },
  {
   "cell_type": "code",
   "execution_count": 19,
   "id": "29dbe4af",
   "metadata": {
    "scrolled": true
   },
   "outputs": [
    {
     "data": {
      "text/plain": [
       "array([30, 30, 30, 30, 30, 30])"
      ]
     },
     "execution_count": 19,
     "metadata": {},
     "output_type": "execute_result"
    }
   ],
   "source": [
    "ar2[:]=30\n",
    "ar2"
   ]
  },
  {
   "cell_type": "code",
   "execution_count": 20,
   "id": "63493f71",
   "metadata": {},
   "outputs": [
    {
     "data": {
      "text/plain": [
       "array([30, 30, 30, 30, 30, 30,  6,  7,  8,  9])"
      ]
     },
     "execution_count": 20,
     "metadata": {},
     "output_type": "execute_result"
    }
   ],
   "source": [
    "ar"
   ]
  },
  {
   "cell_type": "code",
   "execution_count": 21,
   "id": "da4d2260",
   "metadata": {},
   "outputs": [
    {
     "data": {
      "text/plain": [
       "array([30, 30, 30, 30, 30, 30])"
      ]
     },
     "execution_count": 21,
     "metadata": {},
     "output_type": "execute_result"
    }
   ],
   "source": [
    "rr=ar2.copy()\n",
    "rr2=ar2\n",
    "rr2"
   ]
  },
  {
   "cell_type": "code",
   "execution_count": 78,
   "id": "7702e62f",
   "metadata": {},
   "outputs": [
    {
     "data": {
      "text/plain": [
       "array([[1, 2, 3],\n",
       "       [4, 5, 6],\n",
       "       [7, 8, 9]])"
      ]
     },
     "execution_count": 78,
     "metadata": {},
     "output_type": "execute_result"
    }
   ],
   "source": [
    "c=np.array([[1,2,3],[4,5,6],[7,8,9]])\n",
    "c"
   ]
  },
  {
   "cell_type": "code",
   "execution_count": 79,
   "id": "cc004b72",
   "metadata": {},
   "outputs": [
    {
     "data": {
      "text/plain": [
       "array([4, 5, 6])"
      ]
     },
     "execution_count": 79,
     "metadata": {},
     "output_type": "execute_result"
    }
   ],
   "source": [
    "c[1]"
   ]
  },
  {
   "cell_type": "code",
   "execution_count": 80,
   "id": "d70efec1",
   "metadata": {},
   "outputs": [
    {
     "data": {
      "text/plain": [
       "4"
      ]
     },
     "execution_count": 80,
     "metadata": {},
     "output_type": "execute_result"
    }
   ],
   "source": [
    "c[1][0]#first row 0th index value"
   ]
  },
  {
   "cell_type": "code",
   "execution_count": 81,
   "id": "24f245c8",
   "metadata": {},
   "outputs": [
    {
     "data": {
      "text/plain": [
       "5"
      ]
     },
     "execution_count": 81,
     "metadata": {},
     "output_type": "execute_result"
    }
   ],
   "source": [
    "c[1][1]"
   ]
  },
  {
   "cell_type": "code",
   "execution_count": 82,
   "id": "2e70582b",
   "metadata": {},
   "outputs": [
    {
     "data": {
      "text/plain": [
       "array([[2, 3],\n",
       "       [5, 6]])"
      ]
     },
     "execution_count": 82,
     "metadata": {},
     "output_type": "execute_result"
    }
   ],
   "source": [
    "c[:2,1:]"
   ]
  },
  {
   "cell_type": "code",
   "execution_count": 83,
   "id": "0ad51f9a",
   "metadata": {},
   "outputs": [
    {
     "data": {
      "text/plain": [
       "array([[1],\n",
       "       [4]])"
      ]
     },
     "execution_count": 83,
     "metadata": {},
     "output_type": "execute_result"
    }
   ],
   "source": [
    "c[:2,:1]"
   ]
  },
  {
   "cell_type": "code",
   "execution_count": null,
   "id": "04e9a326",
   "metadata": {},
   "outputs": [],
   "source": []
  }
 ],
 "metadata": {
  "kernelspec": {
   "display_name": "Python 3 (ipykernel)",
   "language": "python",
   "name": "python3"
  },
  "language_info": {
   "codemirror_mode": {
    "name": "ipython",
    "version": 3
   },
   "file_extension": ".py",
   "mimetype": "text/x-python",
   "name": "python",
   "nbconvert_exporter": "python",
   "pygments_lexer": "ipython3",
   "version": "3.9.7"
  }
 },
 "nbformat": 4,
 "nbformat_minor": 5
}
