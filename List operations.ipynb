{
 "cells": [
  {
   "cell_type": "markdown",
   "id": "1744dfe7",
   "metadata": {},
   "source": [
    "# List\n",
    "creation and updating"
   ]
  },
  {
   "cell_type": "code",
   "execution_count": 7,
   "id": "e56af0ee",
   "metadata": {},
   "outputs": [
    {
     "name": "stdout",
     "output_type": "stream",
     "text": [
      "['c', 'java']\n"
     ]
    }
   ],
   "source": [
    "x=[\"python\",\"java\"]\n",
    "x[0]=\"c\"\n",
    "print(x)"
   ]
  },
  {
   "cell_type": "code",
   "execution_count": 8,
   "id": "e3b20981",
   "metadata": {},
   "outputs": [
    {
     "name": "stdout",
     "output_type": "stream",
     "text": [
      "['p', 'y', 't', 'h', 'o', 'n']\n"
     ]
    }
   ],
   "source": [
    "x=list(\"python\")#it coverts the string value to the list as char\n",
    "print(x)"
   ]
  },
  {
   "cell_type": "code",
   "execution_count": 10,
   "id": "6ee49b85",
   "metadata": {},
   "outputs": [
    {
     "name": "stdout",
     "output_type": "stream",
     "text": [
      "[1, 2, 3, 4]\n"
     ]
    }
   ],
   "source": [
    "a=list((1,2,3,4))#coveting tuple values to list\n",
    "print(a)"
   ]
  },
  {
   "cell_type": "code",
   "execution_count": 11,
   "id": "1b813a71",
   "metadata": {},
   "outputs": [
    {
     "name": "stdout",
     "output_type": "stream",
     "text": [
      "[2, 3, 4, 5, 6, 7, 8, 9, 10]\n"
     ]
    }
   ],
   "source": [
    "range_no=list(range(2,11))#we have to give 11 for 10 because it starts from index 0 so,n+1 range needed\n",
    "print(range_no)"
   ]
  },
  {
   "cell_type": "markdown",
   "id": "a7735dad",
   "metadata": {},
   "source": [
    "# Accessing the nested list"
   ]
  },
  {
   "cell_type": "code",
   "execution_count": 16,
   "id": "2d226dd2",
   "metadata": {},
   "outputs": [
    {
     "name": "stdout",
     "output_type": "stream",
     "text": [
      "aa\n"
     ]
    }
   ],
   "source": [
    "long_list=['a','b',['aa','bb',[1,2,3],'cc'],'c']\n",
    "print(long_list[2][0])"
   ]
  },
  {
   "cell_type": "code",
   "execution_count": 19,
   "id": "8d2050d1",
   "metadata": {},
   "outputs": [
    {
     "name": "stdout",
     "output_type": "stream",
     "text": [
      "3\n"
     ]
    }
   ],
   "source": [
    "long_list=['a','b',['aa','bb',[1,2,3],'cc'],'c']\n",
    "print(long_list[-2][-2][-1])"
   ]
  },
  {
   "cell_type": "code",
   "execution_count": 21,
   "id": "7cf0b47a",
   "metadata": {},
   "outputs": [
    {
     "name": "stdout",
     "output_type": "stream",
     "text": [
      "1\n"
     ]
    }
   ],
   "source": [
    "long_list=['a','b',['aa','bb',[1,2,3],'cc'],'c']\n",
    "print(long_list[-2][-2][0])"
   ]
  },
  {
   "cell_type": "markdown",
   "id": "5d587cb0",
   "metadata": {},
   "source": [
    "# Appending operation"
   ]
  },
  {
   "cell_type": "code",
   "execution_count": 26,
   "id": "ef9480bc",
   "metadata": {},
   "outputs": [
    {
     "name": "stdout",
     "output_type": "stream",
     "text": [
      "['a', 'b', ['aa', 'bb', [1, 2, 3], 'cc'], 'c', 'dd']\n"
     ]
    }
   ],
   "source": [
    "list=['a','b',['aa','bb',[1,2,3],'cc'],'c']\n",
    "list.append('dd')\n",
    "print(list)\n"
   ]
  },
  {
   "cell_type": "code",
   "execution_count": 24,
   "id": "259ed43e",
   "metadata": {},
   "outputs": [
    {
     "name": "stdout",
     "output_type": "stream",
     "text": [
      "['a', 'b', ['aa', 'bb', [1, 2, 3], 'cc', 'dd'], 'c']\n"
     ]
    }
   ],
   "source": [
    "list=['a','b',['aa','bb',[1,2,3],'cc'],'c']\n",
    "list[2].append('dd')#appending using the index values\n",
    "print(list)"
   ]
  },
  {
   "cell_type": "code",
   "execution_count": 28,
   "id": "b8fe4eba",
   "metadata": {},
   "outputs": [
    {
     "name": "stdout",
     "output_type": "stream",
     "text": [
      "['a', 'b', ['aa', 'bb', [1, 2, 3, 4], 'cc'], 'c']\n"
     ]
    }
   ],
   "source": [
    "list=['a','b',['aa','bb',[1,2,3],'cc'],'c']\n",
    "list[2][2].append(4)#appending using the index values\n",
    "print(list)"
   ]
  },
  {
   "cell_type": "markdown",
   "id": "67a7707f",
   "metadata": {},
   "source": [
    "# Inserting operation"
   ]
  },
  {
   "cell_type": "code",
   "execution_count": 29,
   "id": "f9bacaa3",
   "metadata": {},
   "outputs": [
    {
     "name": "stdout",
     "output_type": "stream",
     "text": [
      "['z', 'a', 'b', ['aa', 'bb', [1, 2, 3], 'cc'], 'c']\n"
     ]
    }
   ],
   "source": [
    "list=['a','b',['aa','bb',[1,2,3],'cc'],'c']\n",
    "         #posi\n",
    "list.insert(0,'z')\n",
    "print(list)"
   ]
  },
  {
   "cell_type": "code",
   "execution_count": 33,
   "id": "89a5456b",
   "metadata": {},
   "outputs": [
    {
     "name": "stdout",
     "output_type": "stream",
     "text": [
      "['z', 'a', 'b', ['zz', 'aa', 'bb', [1, 2, 3], 'cc'], 'c']\n"
     ]
    }
   ],
   "source": [
    "l=['z', 'a', 'b', ['aa', 'bb', [1, 2, 3], 'cc'], 'c']\n",
    "#which list  pos value\n",
    "l[3].insert(0,\"zz\")\n",
    "print(l)"
   ]
  },
  {
   "cell_type": "code",
   "execution_count": 35,
   "id": "527c5135",
   "metadata": {},
   "outputs": [
    {
     "name": "stdout",
     "output_type": "stream",
     "text": [
      "['z', 'a', 'b', ['zz', 'aa', 'bb', [0, 1, 2, 3], 'cc'], 'c']\n"
     ]
    }
   ],
   "source": [
    "l2=['z', 'a', 'b', ['zz', 'aa', 'bb', [1, 2, 3], 'cc'], 'c']\n",
    "l2[3][3].insert(0,0)\n",
    "print(l2)\n"
   ]
  },
  {
   "cell_type": "markdown",
   "id": "4022071d",
   "metadata": {},
   "source": [
    "# Extending operation"
   ]
  },
  {
   "cell_type": "code",
   "execution_count": 37,
   "id": "1357eafa",
   "metadata": {},
   "outputs": [
    {
     "data": {
      "text/plain": [
       "['a', 'b', ['aa', 'bb', [1, 2, 3], 'cc'], 'c', 'd', 'e', 'f']"
      ]
     },
     "execution_count": 37,
     "metadata": {},
     "output_type": "execute_result"
    }
   ],
   "source": [
    "list=['a','b',['aa','bb',[1,2,3],'cc'],'c']\n",
    "list.extend(['d','e','f'])#extending the list space and adding the value\n",
    "list"
   ]
  },
  {
   "cell_type": "code",
   "execution_count": 41,
   "id": "900dcfc7",
   "metadata": {},
   "outputs": [
    {
     "ename": "TypeError",
     "evalue": "list.extend() takes exactly one argument (3 given)",
     "output_type": "error",
     "traceback": [
      "\u001b[1;31m---------------------------------------------------------------------------\u001b[0m",
      "\u001b[1;31mTypeError\u001b[0m                                 Traceback (most recent call last)",
      "\u001b[1;32m~\\AppData\\Local\\Temp/ipykernel_22320/3737239706.py\u001b[0m in \u001b[0;36m<module>\u001b[1;34m\u001b[0m\n\u001b[0;32m      1\u001b[0m \u001b[0mlist\u001b[0m\u001b[1;33m=\u001b[0m\u001b[1;33m[\u001b[0m\u001b[1;34m'a'\u001b[0m\u001b[1;33m,\u001b[0m\u001b[1;34m'b'\u001b[0m\u001b[1;33m,\u001b[0m\u001b[1;33m[\u001b[0m\u001b[1;34m'aa'\u001b[0m\u001b[1;33m,\u001b[0m\u001b[1;34m'bb'\u001b[0m\u001b[1;33m,\u001b[0m\u001b[1;33m[\u001b[0m\u001b[1;36m1\u001b[0m\u001b[1;33m,\u001b[0m\u001b[1;36m2\u001b[0m\u001b[1;33m,\u001b[0m\u001b[1;36m3\u001b[0m\u001b[1;33m]\u001b[0m\u001b[1;33m,\u001b[0m\u001b[1;34m'cc'\u001b[0m\u001b[1;33m]\u001b[0m\u001b[1;33m,\u001b[0m\u001b[1;34m'c'\u001b[0m\u001b[1;33m]\u001b[0m\u001b[1;33m\u001b[0m\u001b[1;33m\u001b[0m\u001b[0m\n\u001b[1;32m----> 2\u001b[1;33m \u001b[0mlist\u001b[0m\u001b[1;33m.\u001b[0m\u001b[0mextend\u001b[0m\u001b[1;33m(\u001b[0m\u001b[1;34m'd'\u001b[0m\u001b[1;33m,\u001b[0m\u001b[1;34m'e'\u001b[0m\u001b[1;33m,\u001b[0m\u001b[1;34m'f'\u001b[0m\u001b[1;33m)\u001b[0m\u001b[1;31m#extending the list space and adding the value\u001b[0m\u001b[1;33m\u001b[0m\u001b[1;33m\u001b[0m\u001b[0m\n\u001b[0m\u001b[0;32m      3\u001b[0m \u001b[0mlist\u001b[0m\u001b[1;33m\u001b[0m\u001b[1;33m\u001b[0m\u001b[0m\n",
      "\u001b[1;31mTypeError\u001b[0m: list.extend() takes exactly one argument (3 given)"
     ]
    }
   ],
   "source": [
    "list=['a','b',['aa','bb',[1,2,3],'cc'],'c']\n",
    "          #it can only extend one value\n",
    "list.extend('d','e','f')#extending the list space and adding the value\n",
    "list"
   ]
  },
  {
   "cell_type": "code",
   "execution_count": 40,
   "id": "eaf22bd1",
   "metadata": {},
   "outputs": [
    {
     "data": {
      "text/plain": [
       "['a', 'b', ['aa', 'bb', [1, 2, 3], 'cc', 'dd', 'ee', 'ff'], 'c', 'd', 'e', 'f']"
      ]
     },
     "execution_count": 40,
     "metadata": {},
     "output_type": "execute_result"
    }
   ],
   "source": [
    "l3=['a', 'b', ['aa', 'bb', [1, 2, 3], 'cc'], 'c', 'd', 'e', 'f']\n",
    "l3[2].extend(['dd','ee','ff'])#extending the 2nd list space and adding the value(at last)\n",
    "l3"
   ]
  },
  {
   "cell_type": "code",
   "execution_count": null,
   "id": "fae8342f",
   "metadata": {},
   "outputs": [],
   "source": []
  }
 ],
 "metadata": {
  "kernelspec": {
   "display_name": "Python 3 (ipykernel)",
   "language": "python",
   "name": "python3"
  },
  "language_info": {
   "codemirror_mode": {
    "name": "ipython",
    "version": 3
   },
   "file_extension": ".py",
   "mimetype": "text/x-python",
   "name": "python",
   "nbconvert_exporter": "python",
   "pygments_lexer": "ipython3",
   "version": "3.9.7"
  }
 },
 "nbformat": 4,
 "nbformat_minor": 5
}
